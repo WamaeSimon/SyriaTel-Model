{
 "cells": [
  {
   "cell_type": "code",
   "execution_count": 2,
   "metadata": {},
   "outputs": [],
   "source": [
    "# Create a function that imports the opens the data, prints the info, describe, shape\n",
    "import pandas as pd\n",
    "\n",
    "def dataframe(file_name):\n",
    "    #read the data\n",
    "    df = pd.read_csv(file_name)\n",
    "    return df "
   ]
  },
  {
   "cell_type": "code",
   "execution_count": 4,
   "metadata": {},
   "outputs": [],
   "source": [
    "def data_info(dataframe):\n",
    "    print(\"The dataframe has {} rows\".format(dataframe.shape[0]))\n",
    "    print(\"The dataframe has {} columns\".format(dataframe.shape[1]))\n",
    "          \n",
    "    print('----------------------------------')\n",
    "    print('Information:', dataframe.info())\n",
    "          \n",
    "    print('----------------------------------')\n",
    "    print(dataframe.columns)\n",
    "          \n",
    "    print('----------------------------------')\n",
    "    print('null_value:', dataframe.isnull().sum())"
   ]
  },
  {
   "cell_type": "code",
   "execution_count": null,
   "metadata": {},
   "outputs": [],
   "source": []
  }
 ],
 "metadata": {
  "kernelspec": {
   "display_name": "Python (learn-env)",
   "language": "python",
   "name": "learn-env"
  },
  "language_info": {
   "codemirror_mode": {
    "name": "ipython",
    "version": 3
   },
   "file_extension": ".py",
   "mimetype": "text/x-python",
   "name": "python",
   "nbconvert_exporter": "python",
   "pygments_lexer": "ipython3",
   "version": "3.8.5"
  }
 },
 "nbformat": 4,
 "nbformat_minor": 4
}
